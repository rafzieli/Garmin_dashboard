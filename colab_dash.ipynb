{
  "nbformat": 4,
  "nbformat_minor": 0,
  "metadata": {
    "colab": {
      "name": "colab_dash.ipynb",
      "provenance": [],
      "include_colab_link": true
    },
    "kernelspec": {
      "name": "python3",
      "display_name": "Python 3"
    }
  },
  "cells": [
    {
      "cell_type": "markdown",
      "metadata": {
        "id": "view-in-github",
        "colab_type": "text"
      },
      "source": [
        "<a href=\"https://colab.research.google.com/github/rafzieli/Garmin_dashboard/blob/main/colab_dash.ipynb\" target=\"_parent\"><img src=\"https://colab.research.google.com/assets/colab-badge.svg\" alt=\"Open In Colab\"/></a>"
      ]
    },
    {
      "metadata": {
        "id": "Cx62f5K4iM9p"
      },
      "cell_type": "markdown",
      "source": [
        "# Setup"
      ]
    },
    {
      "cell_type": "code",
      "source": [
        "from google.colab import drive\n",
        "drive.mount('/content/drive')"
      ],
      "metadata": {
        "id": "kMsSqxKtfC-e",
        "outputId": "89009933-2dd6-40d1-e139-2923b6dba26a",
        "colab": {
          "base_uri": "https://localhost:8080/"
        }
      },
      "execution_count": 1,
      "outputs": [
        {
          "output_type": "stream",
          "name": "stdout",
          "text": [
            "Mounted at /content/drive\n"
          ]
        }
      ]
    },
    {
      "cell_type": "code",
      "source": [
        "%cd /content/drive/MyDrive/garmin_colab"
      ],
      "metadata": {
        "id": "t9okg8zSfqZr",
        "outputId": "bd51652d-d6ac-4a73-d581-bd6364449178",
        "colab": {
          "base_uri": "https://localhost:8080/"
        }
      },
      "execution_count": 2,
      "outputs": [
        {
          "output_type": "stream",
          "name": "stdout",
          "text": [
            "/content/drive/MyDrive/garmin_colab\n"
          ]
        }
      ]
    },
    {
      "cell_type": "code",
      "source": [
        "! pip install jupyter_dash"
      ],
      "metadata": {
        "id": "EVctp9Jbeqdo"
      },
      "execution_count": null,
      "outputs": []
    },
    {
      "cell_type": "code",
      "source": [
        "! pip install dash\n"
      ],
      "metadata": {
        "id": "QTd-_e-le0N2"
      },
      "execution_count": null,
      "outputs": []
    },
    {
      "cell_type": "code",
      "source": [
        "! pip install dash_daq"
      ],
      "metadata": {
        "id": "9gOIhReFgOkw"
      },
      "execution_count": null,
      "outputs": []
    },
    {
      "cell_type": "code",
      "source": [
        "!python pandas_data_wrangling.py"
      ],
      "metadata": {
        "id": "JIi_-XHCfv9a"
      },
      "execution_count": 7,
      "outputs": []
    },
    {
      "metadata": {
        "id": "QVb3TaoVtFom"
      },
      "cell_type": "markdown",
      "source": [
        "# Dash"
      ]
    },
    {
      "cell_type": "code",
      "source": [
        "import dash\n",
        "from dash import dcc\n",
        "from dash import html\n",
        "import plotly.graph_objects as go\n",
        "from dash.dependencies import Input, Output\n",
        "from jupyter_dash import JupyterDash\n",
        "from dash import dash_table\n",
        "from dash.dash_table import FormatTemplate\n",
        "import pandas as pd\n",
        "import numpy as np\n",
        "from datetime import datetime as dt\n",
        "import pandas_data_wrangling\n",
        "import dash_daq as daq\n",
        "\n",
        "df = pd.read_csv('./dashboard_df.csv')\n",
        "numeric_cols = ['Distance', 'Calories', 'AvgHR', 'MaxHR', 'AvgRunCadence', 'MaxRunCadence', 'NumberofLaps',\n",
        "                'TotalAscent',\n",
        "                'TotalDescent', 'MinElevation', 'MaxElevation']\n",
        "timedelta_cols = ['Time', 'BestLapTime', 'MovingTime', 'ElapsedTime']\n",
        "\n",
        "# converting dtypes\n",
        "df[numeric_cols] = df[numeric_cols].apply(pd.to_numeric, errors='coerce', axis=1)\n",
        "df[timedelta_cols] = df[timedelta_cols].apply(pd.to_timedelta, errors='coerce', axis=1)\n",
        "\n",
        "\n",
        "# df.Date = [date[:10] for date in list(df.Date)]\n",
        "# df.Date = df.Date.apply(pd.to_datetime)\n",
        "\n",
        "def format_timedelta(td):\n",
        "    minutes, seconds = divmod(td.seconds + td.days * 86400, 60)\n",
        "    hours, minutes = divmod(minutes, 60)\n",
        "    return '{:02d}:{:02d}'.format(minutes, seconds)\n",
        "\n",
        "\n",
        "# as watches not always deliver us information about avgSpeed/avgPace, we need to calculate it in additional column\n",
        "df['TimeInSec'] = [item.total_seconds() for item in list(df.Time)]\n",
        "df['TimeInHour'] = round(df.TimeInSec / 3600, 2)\n",
        "df['AvgSpeed'] = round((df.Distance / (df.TimeInSec)) * 3600, 1)\n",
        "df['AvgPaceCountFloat'] = round((df.TimeInSec / df.Distance) / 60, 2)\n",
        "df['AvgPaceCountTimedelta'] = df.Time / df.Distance\n",
        "df['AvgPaceCountTimedelta'] = pd.to_timedelta(df['AvgPaceCountTimedelta'])\n",
        "df['AvgPaceCountString'] = df.apply(lambda x: format_timedelta(x['AvgPaceCountTimedelta']), axis=1)\n",
        "\n",
        "external_stylesheets = ['https://codepen.io/chriddyp/pen/bWLwgP.css']\n",
        "\n",
        "\n",
        "theme = {\n",
        "    'dark': True,\n",
        "    'detail': '#007439',\n",
        "    'primary': '#00EA64',\n",
        "    'secondary': '#6E6E6E',\n",
        "}\n",
        "\n",
        "\n",
        "app = JupyterDash(__name__, external_stylesheets=external_stylesheets)\n",
        "\n",
        "app.layout = html.Div([\n",
        "\n",
        "    html.H1('Garmin Dashboard',\n",
        "            style={\n",
        "                'font-fmaily': 'Helvetica',\n",
        "                'text-align': 'center'\n",
        "            }),\n",
        "\n",
        "    html.Hr(),\n",
        "\n",
        "    # 1st line dropdowns\n",
        "    html.Div([\n",
        "        # Athletes div\n",
        "        html.Div([\n",
        "            html.H5('Athletes:'),\n",
        "            html.Div(\n",
        "                dcc.Dropdown(id='athlete-drop',\n",
        "                             options=df['Athlete'].unique(),\n",
        "                             multi=True,\n",
        "                             searchable=True,\n",
        "                             placeholder='Select Athlete to compare sport data',\n",
        "                             value=df.Athlete.unique()[0]),\n",
        "            )\n",
        "        ],\n",
        "            style={'width': '40%',\n",
        "                   'margin-right': '5%',\n",
        "                   'margin-left': '5%'}),\n",
        "        # Sport div - moze dac radio?\n",
        "        html.Div([\n",
        "            html.H5('Activity Type:'),\n",
        "            html.Div(\n",
        "                dcc.RadioItems(id='activity-radio',\n",
        "                               options=sorted(df.ActivityType.unique()),\n",
        "                               value='Cycling'\n",
        "                               )\n",
        "            )\n",
        "        ],\n",
        "            style={'width': '40%',\n",
        "                   'margin-right': '5%',\n",
        "                   'margin-left': '5%'})\n",
        "    ], style={'display': 'flex'}),\n",
        "\n",
        "    # 2nd line dropdowns\n",
        "    html.Div([\n",
        "        # Property div\n",
        "        html.Div([\n",
        "            html.H5('Properties:'),\n",
        "            html.Div(\n",
        "                dcc.Dropdown(id='property-drop',\n",
        "                             options=[\n",
        "                                 {'label': 'Total distance', 'value': 'total_dist'},\n",
        "                                 {'label': 'Average distance per activity', 'value': 'avg_dist_act'},\n",
        "                                 {'label': 'Average speed per activity', 'value': 'avg_speed_act'},\n",
        "                                 {'label': 'Average pace per activity', 'value': 'avg_pace_act'},\n",
        "                                 {'label': 'Total time', 'value': 'total_time'},\n",
        "                                 {'label': 'Total calories burned', 'value': 'total_calories'}\n",
        "                             ],\n",
        "                             value='total_dist',\n",
        "                             # multi=True,\n",
        "                             searchable=True,\n",
        "                             placeholder='Select property to compare'),\n",
        "            )\n",
        "        ],\n",
        "            style={'width': '40%',\n",
        "                   'margin-right': '5%',\n",
        "                   'margin-left': '5%'}),\n",
        "        # Date div\n",
        "        html.Div([\n",
        "            html.H5('Time period:'),\n",
        "            html.Div(\n",
        "                dcc.DatePickerRange(id='date-picker',\n",
        "                                    start_date=df.Date.min(),\n",
        "                                    end_date=df.Date.max(),\n",
        "                                    min_date_allowed=df.Date.min(),\n",
        "                                    max_date_allowed=df.Date.max(),\n",
        "                                    display_format='YYYY-MM-DD'\n",
        "                                    )\n",
        "            )\n",
        "        ],\n",
        "            style={'width': '40%',\n",
        "                   'margin-right': '5%',\n",
        "                   'margin-left': '5%'})\n",
        "    ], style={'display': 'flex'}),\n",
        "\n",
        "    html.Hr(),\n",
        "    html.Div([\n",
        "        dcc.Graph(id='bar-graph'),\n",
        "        ##dcc.Graph(id='scatter-graph')\n",
        "    ]),\n",
        "\n",
        "    html.Div(html.H3(id='highscores-title'), style={'text-align': 'center'}),\n",
        "    html.Div([\n",
        "        html.Div([\n",
        "            html.Div(html.H5(id='gauge-1-title'), style={'text-align': 'center'}),\n",
        "            daq.Gauge(\n",
        "                id='gauge-1',\n",
        "                label='Distance',\n",
        "                showCurrentValue=True,\n",
        "                units='km',\n",
        "                color=theme['primary']), ],\n",
        "            style={'width': '15%', 'margin-right': '2.5%', 'margin-left': '2.5%'}),\n",
        "        html.Div([\n",
        "            html.Div(html.H5(id='gauge-2-title'), style={'text-align': 'center'}),\n",
        "            daq.Gauge(\n",
        "                id='gauge-2',\n",
        "                label='Time',\n",
        "                showCurrentValue=True,\n",
        "                units='h',\n",
        "                color=theme['primary'])],\n",
        "            style={'width': '15%', 'margin-right': '2.5%', 'margin-left': '2.5%'}),\n",
        "        html.Div([\n",
        "            html.Div(html.H5(id='gauge-3-title'), style={'text-align': 'center'}),\n",
        "            daq.Gauge(\n",
        "                id='gauge-3',\n",
        "                label='Biggest ascent',\n",
        "                showCurrentValue=True,\n",
        "                units='m',\n",
        "                color=theme['primary'])],\n",
        "            style={'width': '15%', 'margin-right': '2.5%', 'margin-left': '2.5%'}),\n",
        "        html.Div([\n",
        "            html.Div(html.H5(id='gauge-4-title'), style={'text-align': 'center'}),\n",
        "            daq.Gauge(\n",
        "                id='gauge-4',\n",
        "                label='Most calories burned',\n",
        "                showCurrentValue=True,\n",
        "                units='kcal',\n",
        "                color=theme['primary'])],\n",
        "            style={'width': '15%', 'margin-right': '2.5%', 'margin-left': '2.5%'}),\n",
        "        html.Div([\n",
        "            html.Div(html.H5(id='gauge-5-title'), style={'text-align': 'center'}),\n",
        "            daq.Gauge(\n",
        "                id='gauge-5',\n",
        "                showCurrentValue=True,\n",
        "                color=theme['primary'])],\n",
        "            style={'width': '15%', 'margin-right': '2.5%', 'margin-left': '2.5%'})\n",
        "    ], style={'display': 'flex'}),\n",
        "\n",
        "])\n",
        "\n",
        "\n",
        "@app.callback(\n",
        "    [Output('bar-graph', 'figure'),\n",
        "     Output('gauge-1-title', 'children'),\n",
        "     Output('gauge-2-title', 'children'),\n",
        "     Output('gauge-3-title', 'children'),\n",
        "     Output('gauge-4-title', 'children'),\n",
        "     Output('gauge-5-title', 'children')],\n",
        "    [Input('athlete-drop', 'value'),\n",
        "     Input('activity-radio', 'value'),\n",
        "     Input('property-drop', 'value'),\n",
        "     Input('date-picker', 'start_date'),\n",
        "     Input('date-picker', 'end_date')]\n",
        ")\n",
        "def render_graph_bar_update_gauge_names(athletes, activity, property, start_date, end_date):\n",
        "    df_temp = df[(df.Athlete.isin(list(athletes))) &\n",
        "                 (df.Date > start_date) &\n",
        "                 (df.Date < end_date) &\n",
        "                 (df.ActivityType == activity)]\n",
        "\n",
        "    property_dict = {\n",
        "        'total_dist': df_temp.groupby('Athlete').sum()['Distance'],\n",
        "        'avg_dist_act': df_temp.groupby('Athlete').mean()['Distance'],\n",
        "        'avg_speed_act': df_temp.groupby('Athlete').mean()['AvgSpeed'],\n",
        "        'avg_pace_act': df_temp.groupby('Athlete').mean()['AvgPaceCountFloat'],\n",
        "        'total_time': df_temp.groupby('Athlete').sum()['TimeInHour'],\n",
        "        # tutaj tez trzeba zamienic na sekundy (uzyc TimeInSec) i mozna tez zrobic time mean.\n",
        "        'total_calories': df_temp.groupby('Athlete').sum()['Calories']\n",
        "    }\n",
        "\n",
        "    fig = go.Figure(\n",
        "        data=[go.Bar(\n",
        "            x=df_temp.Athlete.unique(),\n",
        "            y=list(property_dict[str(property)].values),\n",
        "            marker={'color': 'darkgreen'}\n",
        "        )],\n",
        "        layout=go.Layout(\n",
        "            title=go.layout.Title(text=f'{activity} activities from {start_date} to {end_date}'),\n",
        "            xaxis_title='Athlete',\n",
        "            yaxis_title=f'{property}',\n",
        "            barmode='stack',\n",
        "            xaxis={'categoryorder': 'total descending'},\n",
        "            font={'size': 16,\n",
        "                  'color': 'darkblue'},\n",
        "            paper_bgcolor='darkgray',\n",
        "            plot_bgcolor='lightgray'\n",
        "        )\n",
        "    )\n",
        "    name1 = df_temp[df_temp['Distance'] == df_temp['Distance'].max()]['Athlete']\n",
        "    name2 = df_temp[df_temp['TimeInHour'] == df_temp['TimeInHour'].max()]['Athlete']\n",
        "    name3 = df_temp[df_temp['TotalAscent'] == df_temp['TotalAscent'].max()]['Athlete']\n",
        "    name4 = df_temp[df_temp['Calories'] == df_temp['Calories'].max()]['Athlete']\n",
        "    name5 = df_temp[df_temp['AvgSpeed'] == df_temp['AvgSpeed'].max()]['Athlete']\n",
        "\n",
        "    return fig, name1, name2, name3, name4, name5\n",
        "\n",
        "\n",
        "@app.callback(\n",
        "    [Output('gauge-1', 'value'),\n",
        "     Output('gauge-2', 'value'),\n",
        "     Output('gauge-3', 'value'),\n",
        "     Output('gauge-4', 'value'),\n",
        "     Output('gauge-5', 'value')],\n",
        "    [Input('athlete-drop', 'value'),\n",
        "     Input('activity-radio', 'value'),\n",
        "     Input('property-drop', 'value'),\n",
        "     Input('date-picker', 'start_date'),\n",
        "     Input('date-picker', 'end_date')]\n",
        ")\n",
        "def update_gauge_value(athletes, activity, property, start_date, end_date):\n",
        "    #print(athletes, activity, property, start_date, end_date)\n",
        "\n",
        "    df_temp = df[(df.Athlete.isin(list(athletes))) &\n",
        "                 (df.Date > start_date) &\n",
        "                 (df.Date < end_date) &\n",
        "                 (df.ActivityType == activity)]\n",
        "\n",
        "    value1 = round(df_temp['Distance'].max(), 1)\n",
        "    print(f'value1 = {value1}')\n",
        "    value2 = df_temp['TimeInHour'].max()\n",
        "    value3 = df_temp['TotalAscent'].max()\n",
        "    value4 = df_temp['Calories'].max()\n",
        "\n",
        "    if activity == 'Cycling':\n",
        "        value5 = round(df_temp['AvgSpeed'].max(), 1)\n",
        "    else:\n",
        "        value5 = round(df_temp['AvgPaceCountFloat'].min(), 1)\n",
        "    print(f'value5 = {value5}')\n",
        "\n",
        "    return value1, value2, value3, value4, value5\n",
        "\n",
        "\n",
        "@app.callback(\n",
        "    [Output('gauge-1', 'max'),\n",
        "     Output('gauge-2', 'max'),\n",
        "     Output('gauge-3', 'max'),\n",
        "     Output('gauge-4', 'max'),\n",
        "     Output('gauge-5', 'max'),\n",
        "     Output('gauge-5', 'label'),\n",
        "     Output('gauge-5', 'units')],\n",
        "    [Input('activity-radio', 'value')]\n",
        ")\n",
        "def update_gauge_properties(activity):\n",
        "    if activity == 'Cycling':\n",
        "        max1 = 300\n",
        "        max2 = 24\n",
        "        max3 = 3000\n",
        "        max4 = 6000\n",
        "        max5 = 70\n",
        "        label5 ='Highest Average Speed'\n",
        "        units5 = 'km / h'\n",
        "    else:\n",
        "        max1 = 50\n",
        "        max2 = 24\n",
        "        max3 = 3000\n",
        "        max4 = 6000\n",
        "        max5 = 8\n",
        "        label5 = 'Best Pace'\n",
        "        units5 = 'min / km'\n",
        "    return max1, max2, max3, max4, max5, label5, units5\n",
        "\n",
        "\n",
        "@app.callback(\n",
        "    Output('highscores-title', 'children'),\n",
        "    Input('activity-radio', 'value')\n",
        ")\n",
        "def update_highscores_title(activity):\n",
        "    return f'Single activity highscores - {activity}'\n",
        "\n",
        "\n",
        "if __name__ == '__main__':\n",
        "    app.run_server(mode='external', port = 8090, dev_tools_ui=True, #debug=True,\n",
        "              dev_tools_hot_reload =True, threaded=True)\n"
      ],
      "metadata": {
        "id": "GXt85koRe9km",
        "outputId": "49101843-189b-48c2-ed9c-92688cd05990",
        "colab": {
          "base_uri": "https://localhost:8080/",
          "height": 52
        }
      },
      "execution_count": 8,
      "outputs": [
        {
          "output_type": "stream",
          "name": "stdout",
          "text": [
            "Dash app running on:\n"
          ]
        },
        {
          "output_type": "display_data",
          "data": {
            "text/plain": [
              "<IPython.core.display.Javascript object>"
            ],
            "application/javascript": [
              "(async (port, path, text, element) => {\n",
              "    if (!google.colab.kernel.accessAllowed) {\n",
              "      return;\n",
              "    }\n",
              "    element.appendChild(document.createTextNode(''));\n",
              "    const url = await google.colab.kernel.proxyPort(port);\n",
              "    const anchor = document.createElement('a');\n",
              "    anchor.href = new URL(path, url).toString();\n",
              "    anchor.target = '_blank';\n",
              "    anchor.setAttribute('data-href', url + path);\n",
              "    anchor.textContent = text;\n",
              "    element.appendChild(anchor);\n",
              "  })(8090, \"/\", \"http://127.0.0.1:8090/\", window.element)"
            ]
          },
          "metadata": {}
        }
      ]
    },
    {
      "cell_type": "code",
      "source": [
        ""
      ],
      "metadata": {
        "id": "8MCN4aZce_yG"
      },
      "execution_count": null,
      "outputs": []
    }
  ]
}